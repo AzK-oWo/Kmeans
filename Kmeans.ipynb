{
 "cells": [
  {
   "cell_type": "code",
   "execution_count": 1,
   "id": "e1af6450",
   "metadata": {},
   "outputs": [],
   "source": [
    "import matplotlib.pyplot as plt\n",
    "import numpy as np\n",
    "import random"
   ]
  },
  {
   "cell_type": "code",
   "execution_count": 2,
   "id": "9bb40015",
   "metadata": {},
   "outputs": [],
   "source": [
    "DIMENSION = 2 # отвечает за размерность точек\n",
    "HOWMANYDOTS = 50 # отвечает за количество точек\n",
    "BEGININTERVAL, ENDINTERVAL = 0.0, 5.0 # отвечает за разброс точек в интервале\n",
    "try:\n",
    "    if BEGININTERVAL > ENDINTERVAL:\n",
    "        BEGININTERVAL, ENDINTERVAL = ENDINTERVAL, BEGININTERVAL\n",
    "    elif BEGININTERVAL == ENDINTERVAL:\n",
    "        raise ValueError('The same begin and end of interval.')\n",
    "except Exception as ex:\n",
    "    print(str(ex) + \" Change interval and try again\")"
   ]
  },
  {
   "cell_type": "code",
   "execution_count": 3,
   "id": "d50e2d80",
   "metadata": {},
   "outputs": [],
   "source": [
    "def K_means(x, k):\n",
    "    X = [[] for i in range(len(k))]\n",
    "    \n",
    "    for i in x:\n",
    "        min_dist = (ENDINTERVAL - BEGININTERVAL) ** 2\n",
    "        index = 0\n",
    "        iter_ = 0 # костыль №1\n",
    "        for j in k:\n",
    "            diff = (i - j) ** 2\n",
    "            sum_ = np.sum(diff)\n",
    "            if sum_ < min_dist:\n",
    "                min_dist = sum_\n",
    "                index = iter_\n",
    "            iter_ += 1\n",
    "        X[index].append(i)  \n",
    "\n",
    "    iter_ = 0 # костыль №2\n",
    "    new_k = [] # костыль №3\n",
    "    \n",
    "    for i in X:\n",
    "        C = len(i)\n",
    "        if C == 0:\n",
    "            new_k.append(k[iter_])\n",
    "        else:\n",
    "            sum_ = np.linspace(0.0, 0.0, DIMENSION)\n",
    "            for j in i:\n",
    "                sum_ += j\n",
    "            new_k.append(sum_ / C)\n",
    "        iter_ += 1\n",
    "    \n",
    "    new_k = np.array(new_k) #костыль №3\n",
    "    \n",
    "    if (k==new_k).all():\n",
    "        return X, k\n",
    "    return K_means(x, new_k)"
   ]
  },
  {
   "cell_type": "code",
   "execution_count": 4,
   "id": "efce37df",
   "metadata": {},
   "outputs": [],
   "source": [
    "x_arr = ENDINTERVAL * np.random.sample((HOWMANYDOTS, DIMENSION)) + BEGININTERVAL"
   ]
  },
  {
   "cell_type": "code",
   "execution_count": 5,
   "id": "5cc0fc4f",
   "metadata": {},
   "outputs": [
    {
     "data": {
      "image/png": "[encoded data removed]",
      "text/plain": [
       "<Figure size 432x288 with 1 Axes>"
      ]
     },
     "metadata": {
      "needs_background": "light"
     },
     "output_type": "display_data"
    }
   ],
   "source": [
    "for i in x_arr:\n",
    "    x = i[0]\n",
    "    y = i[1]\n",
    "    plt.plot(x, y, \".k\")\n",
    "plt.show()"
   ]
  },
  {
   "cell_type": "code",
   "execution_count": 6,
   "id": "a45826b6",
   "metadata": {},
   "outputs": [
    {
     "name": "stdout",
     "output_type": "stream",
     "text": [
      "выбрали центров - 3\n"
     ]
    }
   ],
   "source": [
    "k = np.random.randint(1, HOWMANYDOTS) # отвечает за количество центров - можно зафиксировать\n",
    "k_arr = x_arr[np.random.randint(0, HOWMANYDOTS, k)]\n",
    "print(\"выбрали центров - \" +str(len(k_arr)))"
   ]
  },
  {
   "cell_type": "code",
   "execution_count": 7,
   "id": "1b87dbf8",
   "metadata": {},
   "outputs": [
    {
     "data": {
      "image/png": "[encoded data removed]",
      "text/plain": [
       "<Figure size 432x288 with 1 Axes>"
      ]
     },
     "metadata": {
      "needs_background": "light"
     },
     "output_type": "display_data"
    }
   ],
   "source": [
    "for i in k_arr:\n",
    "    x = i[0]\n",
    "    y = i[1]\n",
    "    plt.plot(x, y, \"or\")\n",
    "plt.show()"
   ]
  },
  {
   "cell_type": "code",
   "execution_count": 8,
   "id": "4b052117",
   "metadata": {},
   "outputs": [
    {
     "data": {
      "image/png": "[encoded data removed]",
      "text/plain": [
       "<Figure size 432x288 with 1 Axes>"
      ]
     },
     "metadata": {
      "needs_background": "light"
     },
     "output_type": "display_data"
    }
   ],
   "source": [
    "for i in x_arr:\n",
    "    x = i[0]\n",
    "    y = i[1]\n",
    "    plt.plot(x, y, \".k\")\n",
    "for i in k_arr:\n",
    "    x = i[0]\n",
    "    y = i[1]\n",
    "    plt.plot(x, y, \"or\")\n",
    "plt.show()"
   ]
  },
  {
   "cell_type": "code",
   "execution_count": 9,
   "id": "2fced6c1",
   "metadata": {},
   "outputs": [],
   "source": [
    "X, k_arr = K_means(x_arr, k_arr)"
   ]
  },
  {
   "cell_type": "code",
   "execution_count": 10,
   "id": "492f1cf2",
   "metadata": {},
   "outputs": [
    {
     "data": {
      "image/png": "[encoded data removed]",
      "text/plain": [
       "<Figure size 432x288 with 1 Axes>"
      ]
     },
     "metadata": {
      "needs_background": "light"
     },
     "output_type": "display_data"
    },
    {
     "data": {
      "text/plain": [
       "<Figure size 2880x2880 with 0 Axes>"
      ]
     },
     "metadata": {},
     "output_type": "display_data"
    }
   ],
   "source": [
    "for i in X:\n",
    "    col = (random.uniform(0, 1), random.uniform(0, 1), random.uniform(0, 1))\n",
    "    for j in i:\n",
    "        x = j[0]\n",
    "        y = j[1]\n",
    "        plt.plot(x, y, \"o\", color = col)\n",
    "plt.figure(figsize=(40, 40))\n",
    "plt.show()"
   ]
  }
 ],
 "metadata": {
  "kernelspec": {
   "display_name": "Python 3 (ipykernel)",
   "language": "python",
   "name": "python3"
  },
  "language_info": {
   "codemirror_mode": {
    "name": "ipython",
    "version": 3
   },
   "file_extension": ".py",
   "mimetype": "text/x-python",
   "name": "python",
   "nbconvert_exporter": "python",
   "pygments_lexer": "ipython3",
   "version": "3.10.0"
  }
 },
 "nbformat": 4,
 "nbformat_minor": 5
}
